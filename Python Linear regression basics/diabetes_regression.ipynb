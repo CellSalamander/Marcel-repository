{
 "cells": [
  {
   "cell_type": "code",
   "execution_count": 6,
   "metadata": {},
   "outputs": [],
   "source": [
    "import pandas as pd\n",
    "import seaborn as sns\n",
    "import matplotlib.pyplot as plt\n",
    "from sklearn.linear_model import LinearRegression\n",
    "from sklearn.model_selection import train_test_split\n",
    "from sklearn.metrics import r2_score\n",
    "from sklearn.preprocessing import MinMaxScaler, StandardScaler\n"
   ]
  },
  {
   "cell_type": "code",
   "execution_count": 7,
   "metadata": {},
   "outputs": [
    {
     "name": "stdout",
     "output_type": "stream",
     "text": [
      "Intercept: 153.7365439093484\n",
      "Coefficients: [  1.75375799 -11.51180908  25.60712144  16.82887167 -44.44885564\n",
      "  24.64095356   7.67697768  13.1387839   35.16119521   2.35136365]\n",
      "R-squared Score on Test Set: 0.4526\n"
     ]
    }
   ],
   "source": [
    "diabetes_df = pd.read_csv(\"diabetes_dirty.csv\")\n",
    "#Independant : AGE, SEX, BMI, BP, S1, S2, S3, S4, S5, S6\n",
    "#Dependant : Progression\n",
    "X = diabetes_df.drop(columns=[\"PROGRESSION\"])  # Independent variables\n",
    "Y = diabetes_df[\"PROGRESSION\"]  # Dependent variable\n",
    "\n",
    "X_train, X_test, Y_train, Y_test = train_test_split(X, Y, test_size=0.2, random_state=42)\n",
    "\n",
    "minmax_scaler = MinMaxScaler()\n",
    "X_train_minmax = minmax_scaler.fit_transform(X_train)\n",
    "X_test_minmax = minmax_scaler.transform(X_test)\n",
    "\n",
    "std_scaler = StandardScaler()\n",
    "X_train_std = std_scaler.fit_transform(X_train)\n",
    "X_test_std = std_scaler.transform(X_test)\n",
    "\n",
    "model = LinearRegression()\n",
    "model.fit(X_train_std, Y_train)\n",
    "\n",
    "print(\"Intercept:\", model.intercept_)\n",
    "print(\"Coefficients:\", model.coef_)\n",
    "\n",
    "Y_pred = model.predict(X_test_std)\n",
    "\n",
    "r2 = r2_score(Y_test, Y_pred)\n",
    "print(f\"R-squared Score on Test Set: {r2:.4f}\")"
   ]
  }
 ],
 "metadata": {
  "kernelspec": {
   "display_name": "Python 3",
   "language": "python",
   "name": "python3"
  },
  "language_info": {
   "codemirror_mode": {
    "name": "ipython",
    "version": 3
   },
   "file_extension": ".py",
   "mimetype": "text/x-python",
   "name": "python",
   "nbconvert_exporter": "python",
   "pygments_lexer": "ipython3",
   "version": "3.11.2"
  }
 },
 "nbformat": 4,
 "nbformat_minor": 2
}
