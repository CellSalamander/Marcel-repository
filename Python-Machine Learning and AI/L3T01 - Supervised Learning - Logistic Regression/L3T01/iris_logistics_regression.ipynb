{
 "cells": [
  {
   "cell_type": "code",
   "execution_count": 18,
   "metadata": {},
   "outputs": [],
   "source": [
    "import pandas as pd\n",
    "import numpy as np\n",
    "import seaborn as sns\n",
    "import matplotlib as plt\n",
    "from sklearn.model_selection import train_test_split \n",
    "from sklearn import linear_model\n",
    "from sklearn.metrics import confusion_matrix"
   ]
  },
  {
   "cell_type": "code",
   "execution_count": 19,
   "metadata": {},
   "outputs": [],
   "source": [
    "iris_df = pd.read_csv(\"Iris.csv\")"
   ]
  },
  {
   "cell_type": "code",
   "execution_count": null,
   "metadata": {},
   "outputs": [],
   "source": [
    "# Independant variable : SepalLengthCm,SepalWidthCm,PetalLengthCm,PetalWidthCm\n",
    "# Dependant variables : Species"
   ]
  },
  {
   "cell_type": "code",
   "execution_count": 27,
   "metadata": {},
   "outputs": [
    {
     "name": "stdout",
     "output_type": "stream",
     "text": [
      "[[12  0]\n",
      " [ 0 26]]\n"
     ]
    }
   ],
   "source": [
    "iris_df.loc[iris_df[\"Species\"] == \"Iris-setosa\",\"Species\"] = 0\n",
    "iris_df.loc[iris_df[\"Species\"] == \"Iris-versicolor\",\"Species\"] = 1\n",
    "iris_df.loc[iris_df[\"Species\"] == \"Iris-virginica\",\"Species\"] = 1\n",
    "\n",
    "x = iris_df.drop(columns=[\"Species\"])\n",
    "\n",
    "y = iris_df[\"Species\"]\n",
    "iris_df[\"Species\"] = iris_df[\"Species\"].astype(int)\n",
    "\n",
    "x_train , x_test , y_train , y_test = train_test_split(x,y,test_size=0.25)\n",
    "\n",
    "model = linear_model.LogisticRegression()\n",
    "model.fit(x_train, y_train)\n",
    "\n",
    "y_pred = model.predict(x_test)\n",
    "\n",
    "cm = confusion_matrix(y_test,y_pred)\n",
    "print(cm)\n",
    "\n",
    "\n",
    "\n"
   ]
  },
  {
   "cell_type": "code",
   "execution_count": null,
   "metadata": {},
   "outputs": [],
   "source": [
    "# I predict that the model will have similair precision and similair recall"
   ]
  },
  {
   "cell_type": "code",
   "execution_count": 29,
   "metadata": {},
   "outputs": [
    {
     "name": "stdout",
     "output_type": "stream",
     "text": [
      "Accuracy: 1.0\n",
      "Precision: 1.0\n",
      "recall: 1.0\n",
      "F1 score : 1.0%\n"
     ]
    }
   ],
   "source": [
    "from sklearn.metrics import accuracy_score, precision_score, recall_score, f1_score\n",
    "\n",
    "accuracy = accuracy_score(y_test, y_pred)\n",
    "\n",
    "precision = precision_score(y_test, y_pred)\n",
    "\n",
    "recall = recall_score(y_test, y_pred)\n",
    "\n",
    "f1 = f1_score(y_test, y_pred)\n",
    "\n",
    "print(\"Accuracy: \"+str(accuracy))\n",
    "print(\"Precision: \"+str(precision))\n",
    "print(\"recall: \" +str(recall))\n",
    "print(\"F1 score : \"+str(f1)+\"%\")"
   ]
  },
  {
   "cell_type": "code",
   "execution_count": null,
   "metadata": {},
   "outputs": [],
   "source": [
    "# Prediction was right"
   ]
  },
  {
   "cell_type": "code",
   "execution_count": 30,
   "metadata": {},
   "outputs": [
    {
     "name": "stdout",
     "output_type": "stream",
     "text": [
      "[[10  0]\n",
      " [ 0 28]]\n"
     ]
    }
   ],
   "source": [
    "iris_df.loc[iris_df[\"Species\"] == \"Iris-setosa\",\"Species\"] = 0\n",
    "iris_df.loc[iris_df[\"Species\"] == \"Iris-versicolor\",\"Species\"] = 1\n",
    "iris_df.loc[iris_df[\"Species\"] == \"Iris-virginica\",\"Species\"] = 2\n",
    "\n",
    "x = iris_df.drop(columns=[\"Species\"])\n",
    "\n",
    "y = iris_df[\"Species\"]\n",
    "iris_df[\"Species\"] = iris_df[\"Species\"].astype(int)\n",
    "\n",
    "x_train , x_test , y_train , y_test = train_test_split(x,y,test_size=0.25)\n",
    "\n",
    "model = linear_model.LogisticRegression()\n",
    "model.fit(x_train, y_train)\n",
    "\n",
    "y_pred = model.predict(x_test)\n",
    "\n",
    "cm = confusion_matrix(y_test,y_pred)\n",
    "print(cm)"
   ]
  },
  {
   "cell_type": "code",
   "execution_count": null,
   "metadata": {},
   "outputs": [],
   "source": [
    "# The matrix changed : 2 True positives became 2 True negatives"
   ]
  }
 ],
 "metadata": {
  "kernelspec": {
   "display_name": "Python 3",
   "language": "python",
   "name": "python3"
  },
  "language_info": {
   "codemirror_mode": {
    "name": "ipython",
    "version": 3
   },
   "file_extension": ".py",
   "mimetype": "text/x-python",
   "name": "python",
   "nbconvert_exporter": "python",
   "pygments_lexer": "ipython3",
   "version": "3.11.2"
  }
 },
 "nbformat": 4,
 "nbformat_minor": 2
}
